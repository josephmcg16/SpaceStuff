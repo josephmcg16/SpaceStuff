{
 "cells": [
  {
   "cell_type": "code",
   "execution_count": 1,
   "metadata": {},
   "outputs": [],
   "source": [
    "import numpy as np\n",
    "import matplotlib.pyplot as plt\n",
    "import twobodypropogator"
   ]
  },
  {
   "cell_type": "markdown",
   "metadata": {},
   "source": [
    "# Uncertainty propagation methods - Monte Carlo (MC) Simulation\n",
    "\n",
    "[Y.-Z. Luo και Z. Yang, ‘A review of uncertainty propagation in orbital mechanics’, Progress in Aerospace Sciences, τ. 89, σσ. 23–39, 2017.](https://doi.org/10.1016/j.paerosci.2016.12.002)\n",
    "\n",
    "This brute force approach allows a bench-mark for other models. Samples of an initial probability distribution for each trajectory is recorded and propogated using a numerical ODE solver. The mean and covariance matrix for each time-step is simulated."
   ]
  },
  {
   "cell_type": "markdown",
   "metadata": {},
   "source": [
    "## Initial States DOE\n",
    "\n",
    "Generate $N$ initial conditions for a satellite, $\\{\\vec{x}_0^{(i)}\\in \\mathbb{R}^6: i\\in[1, N]\\subset\\mathbb{N}^N\\}$, \n",
    "\n",
    "where ${\\vec{x}_0}^{(i)}=\\begin{matrix}[\\vec{r}^{(i)}, & \\vec{v}^{(i)}]^\\top\\end{matrix}$ is the initial state for a satellite on a trajectory and $\\vec{r}$ and $\\vec{v}$ are the position and velocity vectors respectively in the central body's inertial Cartesian reference frame.\n",
    "\n",
    "The determnisitc initial $N$ states are generated using a random latin-hypercube DOE of 6 keplerian elements in $\\mathbb{R}^{N\\times 6}$ with bounds:\n",
    "\n",
    "- $a\\in[1000, 2000]$\n",
    "- $e\\in[0, 0.5]$\n",
    "- $i\\in[0, \\pi]$\n",
    "- $\\varOmega\\in[0, 2\\pi]$\n",
    "- $\\omega\\in[0, 2\\pi]$\n",
    "- $\\nu\\in[0, 2\\pi]$\n",
    "\n",
    "The initial cartesian states in $\\mathbb{R}^{N\\times 6}$ are calculated from the keplerian elements DOE."
   ]
  },
  {
   "cell_type": "code",
   "execution_count": 2,
   "metadata": {},
   "outputs": [
    {
     "name": "stdout",
     "output_type": "stream",
     "text": [
      "(300, 6)\n"
     ]
    }
   ],
   "source": [
    "np.random.seed(123)\n",
    "N_ICS = 300\n",
    "\n",
    "a_bounds = [1000, 2000]  # semi-major axis [km]\n",
    "e_bounds = [0, 0.5]  # eccentricity [-]\n",
    "i_bounds = [0, np.pi]  # inclination [rad]\n",
    "Omega_bounds = [0, 2*np.pi]  # right ascension [rad]\n",
    "argp_bounds = [0, 2*np.pi]  # argument of periapsis [rad]\n",
    "nu_bounds = [0, 2*np.pi]  # true anomaly [rad]\n",
    "\n",
    "keplerian_bounds = np.asarray(\n",
    "    [a_bounds, e_bounds, i_bounds, Omega_bounds, argp_bounds, nu_bounds]\n",
    ")\n",
    "\n",
    "cart_ics, kepler_ics = twobodypropogator.keplerian_ics_doe(N_ICS, keplerian_bounds)\n",
    "print(kepler_ics.shape)\n"
   ]
  },
  {
   "cell_type": "markdown",
   "metadata": {},
   "source": [
    "# Initial Probability Distribution\n",
    "\n",
    "[C. Sabol, K. Hill, K. Alfriend, T. Sukut, Nonlinear effects in the correlation of tracks and covariance propagation, Acta Astronaut. 84 (2013) 69–80](https://doi.org/10.1016/j.actaastro.2012.08.023)\n",
    "\n",
    "The orbital elements observations are corrupted with Gaussian noise.\n",
    "\n",
    "The noise standard deviations are 30 m and 36 arcsec for the range and angles, respectively, with the intent of simulating errors representative of space surveillance radar systems.\n",
    "\n",
    "$m$ initial trajectories are sampled from the initial probability distribution."
   ]
  },
  {
   "cell_type": "code",
   "execution_count": 3,
   "metadata": {},
   "outputs": [],
   "source": [
    "range_err = 30e-3  # [km]\n",
    "angle_err = 36*4.84814e-6  # [rad]\n",
    "\n",
    "# dictionary and distribution type is passed as an argument later\n",
    "noise_std = {\n",
    "    'a': range_err, 'e': range_err, 'i': angle_err,\n",
    "    'Omega': angle_err, 'argp': angle_err, 'nu': angle_err\n",
    "}\n",
    "\n",
    "distribution_type = 'normal'\n"
   ]
  },
  {
   "cell_type": "markdown",
   "metadata": {},
   "source": [
    "## Perform Simulation\n",
    "\n",
    "Generate $N$ `<MonteCarloPropogator>` class instances (one for each trajectory).\n",
    "\n",
    "Propogate samples of each initial probability distribution. The class will calculate the first and second statistical moments for each epoch."
   ]
  },
  {
   "cell_type": "code",
   "execution_count": 6,
   "metadata": {},
   "outputs": [
    {
     "name": "stdout",
     "output_type": "stream",
     "text": [
      "SIMULATION COMPLETE                                     \n",
      "Output written to : \"E:\\simulations\\data\\monte_carlo_sims_300ics_500smp.npy\"\n"
     ]
    }
   ],
   "source": [
    "from time import time\n",
    "\n",
    "np.random.seed(123)\n",
    "T0 = 0\n",
    "TF = 3600\n",
    "DT = 5\n",
    "epochs = np.arange(T0, TF, DT)\n",
    "\n",
    "m_samples = 500  # number of samples\n",
    "\n",
    "monte_carlo_sims = []\n",
    "tic = time()\n",
    "for i, state0_nominal in enumerate(cart_ics):\n",
    "    mc_sim = twobodypropogator.MonteCarloPropogator(\n",
    "        state0=state0_nominal,\n",
    "        t_span=[T0, TF],\n",
    "        n_samples=m_samples,\n",
    "        initial_pdf_type=distribution_type,\n",
    "        initial_noise_std=noise_std,\n",
    "        central_body='earth'\n",
    "    )\n",
    "    mc_sim.propogate(\n",
    "        t_eval=epochs,\n",
    "        method='RK45',\n",
    "        max_step=DT,\n",
    "        tol=1e-10\n",
    "    )\n",
    "    monte_carlo_sims.append(mc_sim)\n",
    "\n",
    "    # progress bar for output\n",
    "    eta = round((time()-tic) * (N_ICS/(i+1) - 1)/60, 2)\n",
    "    print(\n",
    "        f'\\rCompleted Trajectory : {i+1}/{N_ICS}\\tETA [mins] : {eta}', end='\\r')\n",
    "print(f'SIMULATION COMPLETE                                     ', end='\\n')\n",
    "\n",
    "monte_carlo_sims = np.array(monte_carlo_sims, dtype=object)\n",
    "\n",
    "# save .npy array of objects\n",
    "file_prefix = 'E:\\\\simulations\\\\data'\n",
    "file_path = f'{file_prefix}\\\\monte_carlo_sims_{N_ICS}ics_{m_samples}smp.npy'\n",
    "np.save(file_path, monte_carlo_sims)\n",
    "print(f'Output written to : \"{file_path}\"', end='\\n')\n"
   ]
  },
  {
   "cell_type": "code",
   "execution_count": 2,
   "metadata": {},
   "outputs": [],
   "source": [
    "N_ICS = 300\n",
    "m_samples = 500\n",
    "\n",
    "file_prefix = 'E:\\\\simulations\\\\data'\n",
    "file_path = f'{file_prefix}\\\\monte_carlo_sims_{N_ICS}ics_{m_samples}smp.npy'\n",
    "monte_carlo_sims = np.load(file_path, allow_pickle=True)\n"
   ]
  },
  {
   "cell_type": "markdown",
   "metadata": {},
   "source": [
    "## Train, Validation and Test Data Split"
   ]
  },
  {
   "cell_type": "code",
   "execution_count": 39,
   "metadata": {},
   "outputs": [],
   "source": [
    "from sklearn.model_selection import train_test_split\n",
    "means_tensor = np.asarray([mc_sim.means for mc_sim in monte_carlo_sims])\n",
    "covs_tensor = np.asarray([mc_sim.means for mc_sim in monte_carlo_sims])\n"
   ]
  },
  {
   "cell_type": "code",
   "execution_count": 263,
   "metadata": {},
   "outputs": [],
   "source": [
    "means_training, means_testing = train_test_split(means_tensor)\n",
    "means_testing = np.split(means_testing, 3)\n",
    "means_learning, means_validation = train_test_split(means_training)\n",
    "means_learning = np.split(means_learning, 14)\n"
   ]
  },
  {
   "cell_type": "code",
   "execution_count": 264,
   "metadata": {},
   "outputs": [],
   "source": [
    "for train_num, means_train_set in enumerate(means_learning): \n",
    "    data_prefix = 'TwoBodyMC'\n",
    "    data_set = f'train{train_num+1}_x'\n",
    "    np.save(f'data\\\\{data_prefix}_{data_set}.npy', means_train_set)\n",
    "\n",
    "np.save(f'data\\\\{data_prefix}_val_x.npy', means_validation)\n",
    "\n",
    "for test_num, means_test_set in enumerate(means_testing):\n",
    "    data_prefix = 'TwoBodyMC'\n",
    "    data_set = f'test{test_num+1}_x'\n",
    "    np.save(f'data\\\\{data_prefix}_{data_set}.npy', means_test_set)\n"
   ]
  }
 ],
 "metadata": {
  "interpreter": {
   "hash": "ef72c811c21489a07b1794a69af402251f4939c83ae58afa2588e2b65f00ea19"
  },
  "kernelspec": {
   "display_name": "Python 3",
   "language": "python",
   "name": "python3"
  },
  "language_info": {
   "codemirror_mode": {
    "name": "ipython",
    "version": 3
   },
   "file_extension": ".py",
   "mimetype": "text/x-python",
   "name": "python",
   "nbconvert_exporter": "python",
   "pygments_lexer": "ipython3",
   "version": "3.9.7"
  }
 },
 "nbformat": 4,
 "nbformat_minor": 4
}
